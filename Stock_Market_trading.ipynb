{
  "nbformat": 4,
  "nbformat_minor": 0,
  "metadata": {
    "colab": {
      "name": "Stock_Market_trading.ipynb",
      "provenance": [],
      "collapsed_sections": [
        "wgp0KLU09mFA",
        "BC-oczYCdEL4"
      ],
      "authorship_tag": "ABX9TyMFxyioNIbwcwxt3fuGU30k",
      "include_colab_link": true
    },
    "kernelspec": {
      "name": "python3",
      "display_name": "Python 3"
    }
  },
  "cells": [
    {
      "cell_type": "markdown",
      "metadata": {
        "id": "view-in-github",
        "colab_type": "text"
      },
      "source": [
        "<a href=\"https://colab.research.google.com/github/oscarmejias/deeplearning/blob/master/Stock_Market_trading.ipynb\" target=\"_parent\"><img src=\"https://colab.research.google.com/assets/colab-badge.svg\" alt=\"Open In Colab\"/></a>"
      ]
    },
    {
      "cell_type": "markdown",
      "metadata": {
        "id": "wgp0KLU09mFA",
        "colab_type": "text"
      },
      "source": [
        "##**Importamos las librerias**"
      ]
    },
    {
      "cell_type": "code",
      "metadata": {
        "id": "2veIA1UKb7gp",
        "colab_type": "code",
        "colab": {
          "base_uri": "https://localhost:8080/",
          "height": 74
        },
        "outputId": "0a3745b9-ff83-4841-81af-9ba79f83df7b"
      },
      "source": [
        "import math\n",
        "import random\n",
        "import numpy as np\n",
        "import pandas as pd\n",
        "import tensorflow as tf\n",
        "import matplotlib.pyplot as plt\n",
        "import pandas_datareader as data_reader\n",
        "\n",
        "from tqdm import tqdm_notebook, tqdm\n",
        "from collections import deque"
      ],
      "execution_count": 3,
      "outputs": [
        {
          "output_type": "stream",
          "text": [
            "/usr/local/lib/python3.6/dist-packages/pandas_datareader/compat/__init__.py:7: FutureWarning: pandas.util.testing is deprecated. Use the functions in the public API at pandas.testing instead.\n",
            "  from pandas.util.testing import assert_frame_equal\n"
          ],
          "name": "stderr"
        }
      ]
    },
    {
      "cell_type": "markdown",
      "metadata": {
        "id": "BC-oczYCdEL4",
        "colab_type": "text"
      },
      "source": [
        "##**Construimos la red neuronal de la AI del Trader**"
      ]
    },
    {
      "cell_type": "code",
      "metadata": {
        "id": "IorQW-hddKhG",
        "colab_type": "code",
        "colab": {}
      },
      "source": [
        "class AI_Trader():\n",
        "  def __init__(self, state_size, action_space = 3, model_name = \"AITrader\"): #Manten, Compra, Vende\n",
        "    self.state_size = state_size\n",
        "    self.action_space = action_space\n",
        "    self.memory = deque(maxlen= 2000)\n",
        "    self.inventory = []\n",
        "    self.model_name = model_name\n",
        "\n",
        "    self.gamma = 0.95\n",
        "    self.epsilon = 1.0\n",
        "    self.epsilon_final = 0.01\n",
        "    self.epsilon_decay = 0.995\n",
        "\n",
        "    self.model = self.model_builder()\n",
        "\n",
        "  def model_builder(self):\n",
        "\n",
        "    model = tf.keras.models.Sequential()\n",
        "\n",
        "    model.add(tf.keras.layers.Dense(units= 32, activation= \"relu\", input_dim= self.state_size))\n",
        "\n",
        "    model.add(tf.keras.layers.Dense(units= 64, activation= \"relu\"))\n",
        "\n",
        "    model.add(tf.keras.layers.Dense(units= 128, activation= \"relu\"))\n",
        "\n",
        "    model.add(tf.keras.models.Dense(units= self.action_space, activation= \"linear\"))\n",
        "\n",
        "    model.compile(loss= \"mse\", optimizers= tf.keras.optimizers.Adam(learning_rate= 0.001))\n",
        "\n",
        "    return model\n",
        "\n",
        "  def trade(self, state):\n",
        "    if random.random() <= self.epsilon:\n",
        "      return random.randrange(self.action_space)\n",
        "\n",
        "    actions = self.model.predict(state)\n",
        "    return np.argmax(actions[0])\n",
        "\n",
        "  def batch_train(self, batch_size):\n",
        "\n",
        "    batch = []\n",
        "    for i in range(len(self.memory) - batch_size + 1, len(self.memory)):\n",
        "      print(len(self.memory) - batch_size + 1, len(self.memory)) # Curiosidad, borrar despues\n",
        "      batch.append(self.memory[i])\n",
        "\n",
        "    for state, action, reward, next_action, done in batch:\n",
        "      reward = reward\n",
        "      if not done:\n",
        "        reward = reward + self.gamma * np.amax(self.model.predict(next_state)[0])\n",
        "        print(\"esto es todo lo que arroja una prediccion: {}\".format(model.predict(next_state))) # Analizo el formato de lo que es una prediccion del modelo\n",
        "        print(\"este es el valor maximo de las predicciones: {}\".format(np.amax(model.predict(next_state)[0]))) # Observo la prediccion mas alta del modelo\n",
        "\n",
        "      target = self.model.predict(state)\n",
        "      target[0][action] = reward\n",
        "\n",
        "      print(\"Estado: {} -- Objetivo: {}\".format(state, target)) # Imprimo el state y target para familiarizarme con el algoritmo\n",
        "      self.model.fit(state, target, epochs= 1, verbose= 0)\n",
        "\n",
        "    if self.epsilon > self.epsilon_final:\n",
        "      self.epsilon *= self.epsilon_decay\n"
      ],
      "execution_count": 0,
      "outputs": []
    },
    {
      "cell_type": "markdown",
      "metadata": {
        "id": "enKKMWUr77FV",
        "colab_type": "text"
      },
      "source": [
        "##**Pre procesado del dataset**"
      ]
    },
    {
      "cell_type": "markdown",
      "metadata": {
        "id": "ZKw5WimI9tFS",
        "colab_type": "text"
      },
      "source": [
        "**Definimos funciones adicionales**"
      ]
    },
    {
      "cell_type": "code",
      "metadata": {
        "id": "zpDew0tE8BJH",
        "colab_type": "code",
        "colab": {}
      },
      "source": [
        "#Defino la funcion sigmoide\n",
        "def sigmoide(x):\n",
        "  return 1/ (1 + math.exp(-x))"
      ],
      "execution_count": 0,
      "outputs": []
    },
    {
      "cell_type": "code",
      "metadata": {
        "id": "XaqcQRxCdBZh",
        "colab_type": "code",
        "colab": {}
      },
      "source": [
        "#Defino la funcion del formato de precios\n",
        "def stocks_price_format(n):\n",
        "  if n < 0:\n",
        "    return \"- $ {0:2f}\".format(abs(n))\n",
        "  else:\n",
        "    return \"$ {0:2f}\".format(abs(n))"
      ],
      "execution_count": 0,
      "outputs": []
    },
    {
      "cell_type": "code",
      "metadata": {
        "id": "7OfIE5NX-glu",
        "colab_type": "code",
        "colab": {}
      },
      "source": [
        "#Defino la funcion que carga el Dataset\n",
        "def dataset_loader(stock_name):\n",
        "\n",
        "  #Complete the dataset loader function\n",
        "  dataset = data_reader.DataReader(stock_name, data_source=\"yahoo\")\n",
        "\n",
        "  start_date = str(dataset.index[0]).split()[0]\n",
        "  end_date = str(dataset.index[-1].split()[0])\n",
        "\n",
        "  close = dataset[\"Close\"]\n",
        "\n",
        "  return close"
      ],
      "execution_count": 0,
      "outputs": []
    },
    {
      "cell_type": "markdown",
      "metadata": {
        "id": "D6LeEK8KDNyl",
        "colab_type": "text"
      },
      "source": [
        "###**Creador de estados**\n"
      ]
    },
    {
      "cell_type": "code",
      "metadata": {
        "id": "svnlBNyuDQPm",
        "colab_type": "code",
        "colab": {}
      },
      "source": [
        "def state_creator(data, timestep, window_size):\n",
        "\n",
        "  starting_id = timestep - window_size + 1\n",
        "\n",
        "  if starting_id >= 0:\n",
        "    windowed_data = data[starting_id:timestep+1]\n",
        "  else:\n",
        "    windowed_data = - starting_id * [data[0]] + list(data[0:timestep + 1])\n",
        "\n",
        "  state = []\n",
        "  for i in range(window_size - 1):\n",
        "    state.append(sigmoid(windowed_data[i+1] - windowed_data[i]))\n",
        "\n",
        "  return np.array([state])"
      ],
      "execution_count": 0,
      "outputs": []
    },
    {
      "cell_type": "markdown",
      "metadata": {
        "id": "c18IMZZWEZpQ",
        "colab_type": "text"
      },
      "source": [
        "###**Cargando una divisa del mercado**"
      ]
    },
    {
      "cell_type": "code",
      "metadata": {
        "id": "6Yej51iAEY_A",
        "colab_type": "code",
        "colab": {}
      },
      "source": [
        "stock_name = \"UGAZ\"\n",
        "data = dataset_loader(stock_name)"
      ],
      "execution_count": 0,
      "outputs": []
    }
  ]
}