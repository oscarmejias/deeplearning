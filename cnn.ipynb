{
  "nbformat": 4,
  "nbformat_minor": 0,
  "metadata": {
    "colab": {
      "name": "cnn.ipynb",
      "provenance": [],
      "authorship_tag": "ABX9TyMvPvT/aWznWfQMAcb4KLb3",
      "include_colab_link": true
    },
    "kernelspec": {
      "name": "python3",
      "display_name": "Python 3"
    }
  },
  "cells": [
    {
      "cell_type": "markdown",
      "metadata": {
        "id": "view-in-github",
        "colab_type": "text"
      },
      "source": [
        "<a href=\"https://colab.research.google.com/github/oscarmejias/deeplearning/blob/master/cnn.ipynb\" target=\"_parent\"><img src=\"https://colab.research.google.com/assets/colab-badge.svg\" alt=\"Open In Colab\"/></a>"
      ]
    },
    {
      "cell_type": "markdown",
      "metadata": {
        "id": "8kWdj_z2n9Qh",
        "colab_type": "text"
      },
      "source": [
        "## **Importamos librerias y dividimos el dataset**\n"
      ]
    },
    {
      "cell_type": "code",
      "metadata": {
        "id": "f_1pTE35XXLJ",
        "colab_type": "code",
        "colab": {}
      },
      "source": [
        "import tensorflow as tf\n",
        "import numpy as np\n",
        "import matplotlib.pyplot as plt\n",
        "\n",
        "from tensorflow.keras.datasets import cifar10\n",
        "%matplotlib inline\n",
        "tf.__version__"
      ],
      "execution_count": 0,
      "outputs": []
    },
    {
      "cell_type": "code",
      "metadata": {
        "id": "fflkFX3HX7nx",
        "colab_type": "code",
        "colab": {}
      },
      "source": [
        "#Configuramos los nombres de las clases del dataset\n",
        "class_names = [\"avion\",\"coche\",\"pajaro\",\"gato\",\"ciervo\",\"perro\",\"rana\",\"caballo\",\"barco\",\"camion\"]"
      ],
      "execution_count": 0,
      "outputs": []
    },
    {
      "cell_type": "code",
      "metadata": {
        "id": "IrQcELIvYS_v",
        "colab_type": "code",
        "colab": {}
      },
      "source": [
        "#Cargamos el dataset\n",
        "(X_train, y_train), (X_test, y_test) = cifar10.load_data()"
      ],
      "execution_count": 0,
      "outputs": []
    },
    {
      "cell_type": "markdown",
      "metadata": {
        "id": "J43InzIJYjjW",
        "colab_type": "text"
      },
      "source": [
        "##**Normalizacion de las imagenes**"
      ]
    },
    {
      "cell_type": "code",
      "metadata": {
        "id": "fFEtIqzXYiAf",
        "colab_type": "code",
        "colab": {}
      },
      "source": [
        "X_train = X_train / 255.0"
      ],
      "execution_count": 0,
      "outputs": []
    },
    {
      "cell_type": "code",
      "metadata": {
        "id": "X1I1oqosYu2M",
        "colab_type": "code",
        "colab": {
          "base_uri": "https://localhost:8080/",
          "height": 35
        },
        "outputId": "0310a88a-2201-47f1-b682-3d193b1c2251"
      },
      "source": [
        "X_train.shape"
      ],
      "execution_count": 6,
      "outputs": [
        {
          "output_type": "execute_result",
          "data": {
            "text/plain": [
              "(50000, 32, 32, 3)"
            ]
          },
          "metadata": {
            "tags": []
          },
          "execution_count": 6
        }
      ]
    },
    {
      "cell_type": "code",
      "metadata": {
        "id": "WypeCBCwYx6t",
        "colab_type": "code",
        "colab": {}
      },
      "source": [
        "plt.imshow(X_test[10])"
      ],
      "execution_count": 0,
      "outputs": []
    },
    {
      "cell_type": "code",
      "metadata": {
        "id": "zGh3jLaBZWIj",
        "colab_type": "code",
        "colab": {}
      },
      "source": [
        "y_test[0:5]"
      ],
      "execution_count": 0,
      "outputs": []
    },
    {
      "cell_type": "markdown",
      "metadata": {
        "id": "UMh1Zb7jbjl4",
        "colab_type": "text"
      },
      "source": [
        "## **Construimos la Red Neuronal Convolucional**"
      ]
    },
    {
      "cell_type": "code",
      "metadata": {
        "id": "htuF9Z9SbvOY",
        "colab_type": "code",
        "colab": {}
      },
      "source": [
        "from tensorflow.keras.models import Sequential\n",
        "from tensorflow.keras.layers import Dense,Conv2D,MaxPool2D,Dropout,Flatten"
      ],
      "execution_count": 0,
      "outputs": []
    },
    {
      "cell_type": "code",
      "metadata": {
        "id": "5bv9hN_6bruC",
        "colab_type": "code",
        "colab": {}
      },
      "source": [
        "model = Sequential()"
      ],
      "execution_count": 0,
      "outputs": []
    },
    {
      "cell_type": "code",
      "metadata": {
        "id": "OvJBcSzQcLj2",
        "colab_type": "code",
        "colab": {}
      },
      "source": [
        "model.add(Conv2D(filters= 32, kernel_size= 3, padding= \"same\", activation= \"relu\", input_shape=[32,32,3]))"
      ],
      "execution_count": 0,
      "outputs": []
    },
    {
      "cell_type": "code",
      "metadata": {
        "id": "mwSgZd-1cpZn",
        "colab_type": "code",
        "colab": {}
      },
      "source": [
        "model.add(Conv2D(filters= 32, kernel_size= 3, padding= \"same\", activation= \"relu\"))"
      ],
      "execution_count": 0,
      "outputs": []
    },
    {
      "cell_type": "code",
      "metadata": {
        "id": "X_bExFs6dWj9",
        "colab_type": "code",
        "colab": {}
      },
      "source": [
        "model.add(MaxPool2D(pool_size= (2, 2),strides= 2, padding= \"valid\"))"
      ],
      "execution_count": 0,
      "outputs": []
    },
    {
      "cell_type": "code",
      "metadata": {
        "id": "vncvNSi9dpTB",
        "colab_type": "code",
        "colab": {}
      },
      "source": [
        "model.add(Conv2D(filters= 64, kernel_size= 3, padding= \"same\", activation= \"relu\"))"
      ],
      "execution_count": 0,
      "outputs": []
    },
    {
      "cell_type": "code",
      "metadata": {
        "id": "nTD1P4nUemXS",
        "colab_type": "code",
        "colab": {}
      },
      "source": [
        "model.add(Conv2D(filters= 64, kernel_size= 3, padding= \"same\", activation= \"relu\"))"
      ],
      "execution_count": 0,
      "outputs": []
    },
    {
      "cell_type": "code",
      "metadata": {
        "id": "oHHlCuuId2Nz",
        "colab_type": "code",
        "colab": {}
      },
      "source": [
        "model.add(MaxPool2D(pool_size=(2, 2), strides= 2, padding= \"valid\"))"
      ],
      "execution_count": 0,
      "outputs": []
    },
    {
      "cell_type": "code",
      "metadata": {
        "id": "rmjkRQLYey1S",
        "colab_type": "code",
        "colab": {}
      },
      "source": [
        "model.add(Flatten())"
      ],
      "execution_count": 0,
      "outputs": []
    },
    {
      "cell_type": "code",
      "metadata": {
        "id": "soIVYkHTfI4J",
        "colab_type": "code",
        "colab": {}
      },
      "source": [
        "model.add(Dense(units= 128, activation= \"relu\"))"
      ],
      "execution_count": 0,
      "outputs": []
    },
    {
      "cell_type": "code",
      "metadata": {
        "id": "s0WG1j1EfP9n",
        "colab_type": "code",
        "colab": {}
      },
      "source": [
        "model.add(Dense(units= 10, activation= \"softmax\"))"
      ],
      "execution_count": 0,
      "outputs": []
    },
    {
      "cell_type": "code",
      "metadata": {
        "id": "-fS6karpe4Si",
        "colab_type": "code",
        "colab": {}
      },
      "source": [
        "model.summary()"
      ],
      "execution_count": 0,
      "outputs": []
    },
    {
      "cell_type": "code",
      "metadata": {
        "id": "vaIaQd9whBmr",
        "colab_type": "code",
        "colab": {}
      },
      "source": [
        "model.compile(optimizer= \"adam\", loss= \"sparse_categorical_crossentropy\", metrics=[\"sparse_categorical_accuracy\"])"
      ],
      "execution_count": 0,
      "outputs": []
    },
    {
      "cell_type": "code",
      "metadata": {
        "id": "O4SplqR3hhDp",
        "colab_type": "code",
        "colab": {}
      },
      "source": [
        "model.fit(X_train, y_train, epochs= 5, batch_size= 10)"
      ],
      "execution_count": 0,
      "outputs": []
    },
    {
      "cell_type": "code",
      "metadata": {
        "id": "RNYE6JTkiaGj",
        "colab_type": "code",
        "colab": {}
      },
      "source": [
        "test_loss, test_acc = model.evaluate(X_test, y_test)"
      ],
      "execution_count": 0,
      "outputs": []
    },
    {
      "cell_type": "code",
      "metadata": {
        "id": "rekF0O7-iieX",
        "colab_type": "code",
        "colab": {}
      },
      "source": [
        "print(\"Test accuracy: {}\".format(test_acc))"
      ],
      "execution_count": 0,
      "outputs": []
    }
  ]
}